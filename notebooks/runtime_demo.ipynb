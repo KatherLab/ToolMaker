{
 "cells": [
  {
   "cell_type": "markdown",
   "metadata": {},
   "source": [
    "# Demo for runtime client\n",
    "\n",
    "## Starting a client\n",
    "\n",
    "First, we need to start a runtime and a runtime client."
   ]
  },
  {
   "cell_type": "code",
   "execution_count": 2,
   "metadata": {},
   "outputs": [
    {
     "name": "stderr",
     "output_type": "stream",
     "text": [
      "\u001b[32m2025-02-19 14:01:08.604\u001b[0m | \u001b[34m\u001b[1mDEBUG   \u001b[0m | \u001b[36mtoolmaker.runtime.client\u001b[0m:\u001b[36mbuild_image\u001b[0m:\u001b[36m161\u001b[0m - \u001b[34m\u001b[1mBuilding image toolmaker-runtime:latest using Docker BuildKit\u001b[0m\n",
      "\u001b[32m2025-02-19 14:01:16.299\u001b[0m | \u001b[34m\u001b[1mDEBUG   \u001b[0m | \u001b[36mtoolmaker.runtime.client\u001b[0m:\u001b[36mbuild_image\u001b[0m:\u001b[36m172\u001b[0m - \u001b[34m\u001b[1mError printing build output: {'aux': {'ID': 'sha256:06e1bbe391ca5d4504497b9789dde0a4dfde0333d3ac79adc5cb1bad93edbf4a'}}\u001b[0m\n",
      "\u001b[32m2025-02-19 14:01:16.301\u001b[0m | \u001b[1mINFO    \u001b[0m | \u001b[36mtoolmaker.runtime.client\u001b[0m:\u001b[36mbuild_image\u001b[0m:\u001b[36m174\u001b[0m - \u001b[1mBuilt image toolmaker-runtime:latest using Docker BuildKit\u001b[0m\n",
      "\u001b[32m2025-02-19 14:01:16.303\u001b[0m | \u001b[34m\u001b[1mDEBUG   \u001b[0m | \u001b[36mtoolmaker.runtime.client\u001b[0m:\u001b[36m_start_container\u001b[0m:\u001b[36m205\u001b[0m - \u001b[34m\u001b[1mStarting container with GPUs ['0'] on port 8000\u001b[0m\n"
     ]
    },
    {
     "name": "stdout",
     "output_type": "stream",
     "text": [
      "Step 1/15 : FROM python:3.12\n",
      " ---> 1a0aa7c771b9\n",
      "Step 2/15 : ENV HOST=0.0.0.0\n",
      " ---> Using cache\n",
      " ---> 1367f556dfe6\n",
      "Step 3/15 : ENV PORT=8000\n",
      " ---> Using cache\n",
      " ---> b7c458369eeb\n",
      "Step 4/15 : RUN mkdir -p /toolmaker\n",
      " ---> Using cache\n",
      " ---> e7111a458120\n",
      "Step 5/15 : COPY pyproject.toml /toolmaker/pyproject.toml\n",
      " ---> Using cache\n",
      " ---> 5303632c7a84\n",
      "Step 6/15 : COPY uv.lock /toolmaker/uv.lock\n",
      " ---> Using cache\n",
      " ---> b4a110547937\n",
      "Step 7/15 : COPY toolmaker /toolmaker/toolmaker\n",
      " ---> Using cache\n",
      " ---> 5750bf88fca0\n",
      "Step 8/15 : COPY scripts/toolmaker_function_runner.py /toolmaker/toolmaker_function_runner.py\n",
      " ---> Using cache\n",
      " ---> 6031d295b94f\n",
      "Step 9/15 : COPY scripts/subprocess_utils.py /toolmaker/subprocess_utils.py\n",
      " ---> Using cache\n",
      " ---> 9ab15b730b43\n",
      "Step 10/15 : RUN python -m pip install uv &&     cd /toolmaker &&     uv venv &&     uv sync\n",
      " ---> Using cache\n",
      " ---> 9cf9f64fb3bf\n",
      "Step 11/15 : RUN mkdir -p /workspace\n",
      " ---> Using cache\n",
      " ---> b40f813f2629\n",
      "Step 12/15 : WORKDIR /workspace\n",
      " ---> Using cache\n",
      " ---> 21267f36108f\n",
      "Step 13/15 : VOLUME /mount/input\n",
      " ---> Using cache\n",
      " ---> 2a5d8a47c53a\n",
      "Step 14/15 : VOLUME /mount/output\n",
      " ---> Using cache\n",
      " ---> b3a0b42ba233\n",
      "Step 15/15 : CMD /toolmaker/.venv/bin/uvicorn --app-dir /toolmaker --host ${HOST} --port ${PORT} toolmaker.runtime.server:app\n",
      " ---> Using cache\n",
      " ---> 06e1bbe391ca\n"
     ]
    },
    {
     "name": "stderr",
     "output_type": "stream",
     "text": [
      "\u001b[32m2025-02-19 14:01:17.011\u001b[0m | \u001b[1mINFO    \u001b[0m | \u001b[36mtoolmaker.runtime.client\u001b[0m:\u001b[36m_start_container\u001b[0m:\u001b[36m220\u001b[0m - \u001b[1mStarted runtime client toolmaker-client on port 8000 from image toolmaker-runtime:latest\u001b[0m\n"
     ]
    }
   ],
   "source": [
    "import sys\n",
    "\n",
    "sys.path.append(\"..\")\n",
    "\n",
    "from toolmaker.runtime.client import DockerRuntimeClient\n",
    "\n",
    "client = DockerRuntimeClient.create(\n",
    "    name=\"toolmaker-client\", reuse_existing=False, build=True\n",
    ")"
   ]
  },
  {
   "cell_type": "markdown",
   "metadata": {},
   "source": [
    "The cell above performs two tasks:\n",
    "1. It starts a new runtime in a new Docker container named `\"toolmaker-client\"`.\n",
    "2. It starts a runtime client in order to interact with that runtime programatically.\n",
    "\n",
    "Specifically, the first step is equivalent to:\n",
    "```bash\n",
    "uv run python -m toolmaker.runtime.create --name toolmaker-client\n",
    "\n",
    "# Or, if you want to use docker commands directly, you could instead run:\n",
    "docker buildx build -f runtime/Dockerfile -t toolmaker-client .\n",
    "docker run -it -p 8000:8000 --rm toolmaker-client\n",
    "```\n",
    "\n",
    "The client will be running on `localhost:8000` (the Docker container's port 8000 will be mounted to local port 8000).\n",
    "To check if the client is running, see if the docs are available at [http://localhost:8000/docs](http://localhost:8000/docs).\n",
    "\n",
    "## Using the client\n",
    "First, let's programmatically check that the client is alive."
   ]
  },
  {
   "cell_type": "code",
   "execution_count": 3,
   "metadata": {},
   "outputs": [
    {
     "data": {
      "text/plain": [
       "True"
      ]
     },
     "execution_count": 3,
     "metadata": {},
     "output_type": "execute_result"
    }
   ],
   "source": [
    "client.is_alive()"
   ]
  },
  {
   "cell_type": "markdown",
   "metadata": {},
   "source": [
    "Let's create an action to run on the client."
   ]
  },
  {
   "cell_type": "code",
   "execution_count": 6,
   "metadata": {},
   "outputs": [
    {
     "data": {
      "text/plain": [
       "RunBashCommand(command='pwd', env=[], reasoning='')"
      ]
     },
     "execution_count": 6,
     "metadata": {},
     "output_type": "execute_result"
    }
   ],
   "source": [
    "from toolmaker.actions import RunBashCommand\n",
    "\n",
    "command = RunBashCommand(command=\"pwd\", env=[])\n",
    "command"
   ]
  },
  {
   "cell_type": "markdown",
   "metadata": {},
   "source": [
    "Now, run the action:"
   ]
  },
  {
   "cell_type": "code",
   "execution_count": 7,
   "metadata": {},
   "outputs": [
    {
     "name": "stdout",
     "output_type": "stream",
     "text": [
      "/workspace\n",
      "\n"
     ]
    }
   ],
   "source": [
    "observation = client.execute(command)\n",
    "print(observation.content)"
   ]
  },
  {
   "cell_type": "markdown",
   "metadata": {},
   "source": [
    "Let's try some more actions."
   ]
  },
  {
   "cell_type": "code",
   "execution_count": 8,
   "metadata": {},
   "outputs": [
    {
     "data": {
      "text/plain": [
       "FileWriteObservation(content=None, filename='test.txt')"
      ]
     },
     "execution_count": 8,
     "metadata": {},
     "output_type": "execute_result"
    }
   ],
   "source": [
    "from toolmaker.actions import WriteFile\n",
    "\n",
    "client.execute(\n",
    "    WriteFile(path=\"test.txt\", content=\"Hello, world!\", description=\"A test file\")\n",
    ")"
   ]
  },
  {
   "cell_type": "code",
   "execution_count": 9,
   "metadata": {},
   "outputs": [
    {
     "data": {
      "text/plain": [
       "ListDirectoryObservation(content=['/workspace/test.txt'])"
      ]
     },
     "execution_count": 9,
     "metadata": {},
     "output_type": "execute_result"
    }
   ],
   "source": [
    "from toolmaker.actions import ListDirectory\n",
    "\n",
    "client.execute(ListDirectory(path=\"\"))"
   ]
  },
  {
   "cell_type": "code",
   "execution_count": 10,
   "metadata": {},
   "outputs": [
    {
     "data": {
      "text/plain": [
       "FileReadObservation(content='Hello, world!')"
      ]
     },
     "execution_count": 10,
     "metadata": {},
     "output_type": "execute_result"
    }
   ],
   "source": [
    "from toolmaker.actions import ReadFile\n",
    "\n",
    "client.execute(ReadFile(path=\"test.txt\"))"
   ]
  },
  {
   "cell_type": "code",
   "execution_count": 12,
   "metadata": {},
   "outputs": [
    {
     "data": {
      "text/plain": [
       "BrowseObservation(content='Google Suche [Bilder](https://www.google.com/imghp?hl=de&tab=wi) [Maps](https://maps.google.de/maps?hl=de&tab=wl) [Play](https://play.google.com/?hl=de&tab=w8) [YouTube](https://www.youtube.com/?tab=w1) [News](https://news.google.com/?tab=wn) [Gmail](https://mail.google.com/mail/?tab=wm) [Drive](https://drive.google.com/?tab=wo) [Mehr »](https://www.google.de/intl/de/about/products?tab=wh) [Webprotokoll](http://www.google.de/history/optout?hl=de) | [Einstellungen](/preferences?hl=de) | [Anmelden](https://accounts.google.com/ServiceLogin?hl=de&passive=true&continue=https://www.google.com/&ec=GAZAAQ) [Erweiterte Suche](/advanced_search?hl=de&authuser=0) [Werbeprogramme](/intl/de/ads/) [Unternehmensangebote](/services/) [Éber Google](/intl/de/about.html) [Google.de](https://www.google.com/setprefdomain?prefdom=DE&prev=https://www.google.de/&sig=K_xbS_LBKHQSTSR-6DP48PQcaEwME%3D) © 2025 - [Datenschutzerklðrung](/intl/de/policies/privacy/) - [Nutzungsbedingungen](/intl/de/policies/terms/)', status_code=200)"
      ]
     },
     "execution_count": 12,
     "metadata": {},
     "output_type": "execute_result"
    }
   ],
   "source": [
    "from toolmaker.actions import Browse\n",
    "\n",
    "client.execute(Browse(url=\"https://www.google.com\"))"
   ]
  },
  {
   "cell_type": "markdown",
   "metadata": {},
   "source": [
    "## Stopping the client\n",
    "To stop and delete the client after completing this notebook, run:\n",
    "```bash\n",
    "docker stop toolmaker-client\n",
    "docker rm toolmaker-client\n",
    "```"
   ]
  },
  {
   "cell_type": "markdown",
   "metadata": {},
   "source": []
  }
 ],
 "metadata": {
  "kernelspec": {
   "display_name": ".venv",
   "language": "python",
   "name": "python3"
  },
  "language_info": {
   "codemirror_mode": {
    "name": "ipython",
    "version": 3
   },
   "file_extension": ".py",
   "mimetype": "text/x-python",
   "name": "python",
   "nbconvert_exporter": "python",
   "pygments_lexer": "ipython3",
   "version": "3.12.7"
  }
 },
 "nbformat": 4,
 "nbformat_minor": 2
}
